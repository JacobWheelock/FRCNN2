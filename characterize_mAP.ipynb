{
 "cells": [
  {
   "cell_type": "code",
   "execution_count": null,
   "id": "fe9e63c0",
   "metadata": {},
   "outputs": [],
   "source": [
    "from library import *"
   ]
  },
  {
   "cell_type": "code",
   "execution_count": null,
   "id": "88fffe3f",
   "metadata": {},
   "outputs": [],
   "source": [
    "BATCH_SIZE = 4 # increase / decrease according to GPU memory\n",
    "RESIZE_TO = 512 # resize the image for training and transforms\n",
    "NUM_EPOCHS = 5 # number of epochs to train for\n",
    "SAVE_PLOTS_EPOCH = 1 # save loss plots after these many epochs\n",
    "SAVE_MODEL_EPOCH = 5 # save model after these many epochs"
   ]
  },
  {
   "cell_type": "code",
   "execution_count": null,
   "id": "6aa757ce",
   "metadata": {},
   "outputs": [],
   "source": [
    "# prepare the final datasets and data loaders\n",
    "train_dataset = getDataset(TRAIN_DIR, RESIZE_TO, RESIZE_TO, get_train_transform())\n",
    "valid_dataset = getDataset(VALID_DIR, RESIZE_TO, RESIZE_TO, get_valid_transform())\n",
    "[train_loader, valid_loader] = get_loaders(train_dataset, valid_dataset, BATCH_SIZE, collate_fn)\n",
    "\n",
    "NUM_CLASSES = len(train_dataset.classes)\n",
    "\n",
    "print(f\"Number of training samples: {int(len(train_dataset))}\")\n",
    "print(f\"Number of validation samples: {int(len(valid_dataset))}\\n\")"
   ]
  },
  {
   "cell_type": "markdown",
   "id": "a41427bc",
   "metadata": {},
   "source": [
    "### NUM_EXPERIMENTS: \n",
    "Defines how many times the function will train and evaluate models with progressively larger subsets of the training dataset. For instance, if NUM_EXPERIMENTS is set to 5, the function will run 5 experiments with increasing amounts of training data each time. Starting with a small subset and progressively adding more samples, we can see how the model’s performance improves as it trains on larger portions of the dataset.\n",
    "\n",
    "### EPOCHS_PER_EXPERIMENT: \n",
    "Specifies the number of training epochs for each experiment. Each epoch represents a full pass over the current training subset. \n",
    "\n",
    "### TRIALS_PER_EXPERIMENT: \n",
    "Indicates the number of repeated trials for each training subset size. By training the model multiple times on the same subset, this parameter helps assess variability in performance, providing a more robust measure of the model's expected accuracy for each dataset size."
   ]
  },
  {
   "cell_type": "code",
   "execution_count": null,
   "id": "da1b005a",
   "metadata": {},
   "outputs": [],
   "source": [
    "DEVICE = torch.device('cuda') if torch.cuda.is_available() else torch.device('cpu')\n",
    "exp_results = run_experiment(train_dataset, valid_dataset, NUM_CLASSES, BATCH_SIZE, \n",
    "                             NUM_EXPERIMENTS=1, EPOCHS_PER_EXPERIMENT=1, TRIALS_PER_EXPERIMENT=3)\n",
    "np.savetxt('testResults.csv', exp_results, delimiter=',')"
   ]
  }
 ],
 "metadata": {
  "kernelspec": {
   "display_name": "Python 3 (ipykernel)",
   "language": "python",
   "name": "python3"
  },
  "language_info": {
   "codemirror_mode": {
    "name": "ipython",
    "version": 3
   },
   "file_extension": ".py",
   "mimetype": "text/x-python",
   "name": "python",
   "nbconvert_exporter": "python",
   "pygments_lexer": "ipython3",
   "version": "3.10.13"
  }
 },
 "nbformat": 4,
 "nbformat_minor": 5
}
