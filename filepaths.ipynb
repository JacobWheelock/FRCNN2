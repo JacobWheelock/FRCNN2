{
 "cells": [
  {
   "cell_type": "code",
   "execution_count": null,
   "id": "6210e5a5-b06b-4c1e-bbc4-39ed6d662ae0",
   "metadata": {},
   "outputs": [],
   "source": [
    "# training images and XML files directory\n",
    "TRAIN_DIR = './images/train'\n",
    "# validation images and XML files directory\n",
    "VALID_DIR = './images/test'\n",
    "# location to save model\n",
    "MODEL_DIR = './models'\n",
    "# location to save data\n",
    "OUT_DIR = './outputs'\n",
    "# location to save plots\n",
    "PLOT_DIR = './plots'"
   ]
  }
 ],
 "metadata": {
  "kernelspec": {
   "display_name": "Python 3 (ipykernel)",
   "language": "python",
   "name": "python3"
  },
  "language_info": {
   "codemirror_mode": {
    "name": "ipython",
    "version": 3
   },
   "file_extension": ".py",
   "mimetype": "text/x-python",
   "name": "python",
   "nbconvert_exporter": "python",
   "pygments_lexer": "ipython3",
   "version": "3.11.5"
  }
 },
 "nbformat": 4,
 "nbformat_minor": 5
}
